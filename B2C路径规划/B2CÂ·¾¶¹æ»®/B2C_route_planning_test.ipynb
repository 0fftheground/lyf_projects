{
 "cells": [
  {
   "cell_type": "code",
   "execution_count": 1,
   "metadata": {
    "pycharm": {
     "is_executing": false,
     "name": "#%%\n"
    }
   },
   "outputs": [],
   "source": [
    "import pandas as pd \n",
    "import numpy as np\n",
    "import itertools \n",
    "import requests\n",
    "import ortools\n",
    "import os"
   ]
  },
  {
   "cell_type": "code",
   "execution_count": 2,
   "metadata": {},
   "outputs": [],
   "source": [
    "from ortools.constraint_solver import routing_enums_pb2\n",
    "from ortools.constraint_solver import pywrapcp"
   ]
  },
  {
   "cell_type": "code",
   "execution_count": 3,
   "metadata": {
    "pycharm": {
     "is_executing": false,
     "name": "#%%\n"
    }
   },
   "outputs": [],
   "source": [
    "dt_gx = pd.read_excel('广西.xlsx',\n",
    "                      dtype={'门店编号':str})\n",
    "#df_gx = pd.DataFrame.from_dict(dt_gx,orient='index')\n",
    "#dt_gx['门店编号'][0]\n"
   ]
  },
  {
   "cell_type": "code",
   "execution_count": 4,
   "metadata": {
    "collapsed": true
   },
   "outputs": [
    {
     "data": {
      "text/html": [
       "<div>\n",
       "<style scoped>\n",
       "    .dataframe tbody tr th:only-of-type {\n",
       "        vertical-align: middle;\n",
       "    }\n",
       "\n",
       "    .dataframe tbody tr th {\n",
       "        vertical-align: top;\n",
       "    }\n",
       "\n",
       "    .dataframe thead th {\n",
       "        text-align: right;\n",
       "    }\n",
       "</style>\n",
       "<table border=\"1\" class=\"dataframe\">\n",
       "  <thead>\n",
       "    <tr style=\"text-align: right;\">\n",
       "      <th></th>\n",
       "      <th>门店名称</th>\n",
       "      <th>门店编号</th>\n",
       "      <th>门店地址</th>\n",
       "      <th>求和项:订货数量</th>\n",
       "    </tr>\n",
       "  </thead>\n",
       "  <tbody>\n",
       "    <tr>\n",
       "      <th>25</th>\n",
       "      <td>小伍彩票店</td>\n",
       "      <td>450107100784</td>\n",
       "      <td>广西壮族自治区南宁市西乡塘区广西省南宁市衡阳西路38一15号</td>\n",
       "      <td>23</td>\n",
       "    </tr>\n",
       "    <tr>\n",
       "      <th>26</th>\n",
       "      <td>兴宁中鼎城市锦绣花园店</td>\n",
       "      <td>50220582</td>\n",
       "      <td>广西壮族自治区南宁市兴宁区唐山路46栋中鼎城市花园12楼1单元12111号房</td>\n",
       "      <td>7</td>\n",
       "    </tr>\n",
       "    <tr>\n",
       "      <th>27</th>\n",
       "      <td>兴盛优选劳燕华店</td>\n",
       "      <td>450107101438</td>\n",
       "      <td>广西壮族自治区南宁市西乡塘区北大北路25号梦泽园小区老区西侧旁66号商铺</td>\n",
       "      <td>11</td>\n",
       "    </tr>\n",
       "    <tr>\n",
       "      <th>28</th>\n",
       "      <td>亿鼎明都锦绣花园水果派店</td>\n",
       "      <td>450107100782</td>\n",
       "      <td>广西壮族自治区南宁市西乡塘区唐山路54号明都锦绣花园5栋2304</td>\n",
       "      <td>4</td>\n",
       "    </tr>\n",
       "    <tr>\n",
       "      <th>29</th>\n",
       "      <td>中华苑小区菜鸟驿站</td>\n",
       "      <td>450102100624</td>\n",
       "      <td>广西壮族自治区南宁市兴宁区中华路22号中华苑小区1号楼第11号车库</td>\n",
       "      <td>6</td>\n",
       "    </tr>\n",
       "  </tbody>\n",
       "</table>\n",
       "</div>"
      ],
      "text/plain": [
       "            门店名称          门店编号                                    门店地址  \\\n",
       "25         小伍彩票店  450107100784          广西壮族自治区南宁市西乡塘区广西省南宁市衡阳西路38一15号   \n",
       "26   兴宁中鼎城市锦绣花园店      50220582  广西壮族自治区南宁市兴宁区唐山路46栋中鼎城市花园12楼1单元12111号房   \n",
       "27      兴盛优选劳燕华店  450107101438    广西壮族自治区南宁市西乡塘区北大北路25号梦泽园小区老区西侧旁66号商铺   \n",
       "28  亿鼎明都锦绣花园水果派店  450107100782        广西壮族自治区南宁市西乡塘区唐山路54号明都锦绣花园5栋2304   \n",
       "29     中华苑小区菜鸟驿站  450102100624       广西壮族自治区南宁市兴宁区中华路22号中华苑小区1号楼第11号车库   \n",
       "\n",
       "    求和项:订货数量  \n",
       "25        23  \n",
       "26         7  \n",
       "27        11  \n",
       "28         4  \n",
       "29         6  "
      ]
     },
     "execution_count": 4,
     "metadata": {},
     "output_type": "execute_result"
    }
   ],
   "source": [
    "dt_gx.tail()"
   ]
  },
  {
   "cell_type": "code",
   "execution_count": 5,
   "metadata": {},
   "outputs": [],
   "source": [
    "import pymysql\n",
    "config = {\n",
    "    'host': '192.168.1.227',\n",
    "    'port': 4000,\n",
    "    'user': 'liyufan',\n",
    "    'passwd': 'Juno#2021',\n",
    "    'charset':'utf8mb4',\n",
    "    'cursorclass':pymysql.cursors.DictCursor\n",
    "    }\n",
    "conn = pymysql.connect(**config)"
   ]
  },
  {
   "cell_type": "code",
   "execution_count": 6,
   "metadata": {},
   "outputs": [],
   "source": [
    "def sub_task(cal_df):\n",
    "        requests.adapters.DEFAULT_RETRIES = 5\n",
    "        s = requests.session()\n",
    "        s.keep_alive = False\n",
    "        cal_df['navi_distance'] = cal_df.apply(\n",
    "            lambda df: geo_location_distance(df['lon0'], df['lat0'], df['lon1'], df['lat1']), axis=1)\n",
    "        return cal_df.copy()"
   ]
  },
  {
   "cell_type": "code",
   "execution_count": 7,
   "metadata": {},
   "outputs": [],
   "source": [
    "def geo_location_distance(o_X, o_Y, d_X, d_Y):\n",
    "#     '''\n",
    "#     根据经纬度调用高德API获取导航距离（使用距离最短策略:strategy=2）\n",
    "#     :param o_X:起点经度\n",
    "#     :param o_Y:起点纬度\n",
    "#     :param d_X:终点经度\n",
    "#     :param d_Y:终点纬度\n",
    "#     :return:导航距离（km为单位）\n",
    "#     '''\n",
    "    k = 'c33b02b68bd7785d75ed05f0178a8e05'\n",
    "    if d_X == 0 or d_Y == 0 or str(d_X).lower().strip() == 'nan':\n",
    "        return 999\n",
    "    origin = str(o_X) + ',' + str(o_Y)\n",
    "    destination = str(d_X) + ',' + str(d_Y)\n",
    "\n",
    "    #url = \"https://restapi.amap.com/v3/direction/driving?key=%s&origin=%s&destination=%s&strategy=0&extensions=base\" % (\n",
    "        #k, origin, destination)\n",
    "\n",
    "    url = \"https://restapi.amap.com/v3/distance?key=%s&origins=%s&destination=%s&type=1\" % (\n",
    "        k, origin, destination)\n",
    "\n",
    "    headers = {'Connection': 'close', }\n",
    "\n",
    "    try:\n",
    "        data = requests.get(url, headers=headers)\n",
    "        contest = data.json()\n",
    "        if contest['status'] == '1':\n",
    "            # route = contest['route']\n",
    "            # result = route['paths'][0]\n",
    "            # out = float(result['distance']) / 1000\n",
    "            result = contest['results'][0]\n",
    "            out = float(result['distance']) / 1000\n",
    "        else:\n",
    "            print(contest['info'])\n",
    "            print(d_Y)\n",
    "            out = 999\n",
    "    except:\n",
    "        out = 999\n",
    "    return out"
   ]
  },
  {
   "cell_type": "code",
   "execution_count": 8,
   "metadata": {},
   "outputs": [],
   "source": [
    "def get_route_total_distance(store_table,store_distance_df):\n",
    "    #调用or tools, assign origin and vehicle \n",
    "    manager = pywrapcp.RoutingIndexManager(store_table.shape[0],\n",
    "                                       1, 0)\n",
    "    routing = pywrapcp.RoutingModel(manager)\n",
    "    \n",
    "    def distance_callback(from_index, to_index):\n",
    "#         \"\"\"Returns the distance between the two nodes.\"\"\"\n",
    "        # Convert from routing variable Index to distance matrix NodeIndex.\n",
    "        from_node = manager.IndexToNode(from_index)\n",
    "        to_node = manager.IndexToNode(to_index)\n",
    "\n",
    "        #只计算单程线路，不计算返程，将所有目的地为仓库的距离排除计算外\n",
    "        if to_node == 0:\n",
    "            return 0\n",
    "    \n",
    "#     from_node = from_index\n",
    "#     to_node = to_index\n",
    "        from_code = store_table.loc[int(from_node),'门店编号']\n",
    "        to_code = store_table.loc[int(to_node),'门店编号']\n",
    "    \n",
    "#     print(from_code)\n",
    "#     print(to_code)\n",
    "    \n",
    "    \n",
    "        if from_code > to_code:\n",
    "            return store_distance_df[\n",
    "            (store_distance_df['village_code_0'] == to_code) & (store_distance_df['village_code_1'] == from_code)][\n",
    "            'navi_distance'].values[0]\n",
    "        elif from_code < to_code:\n",
    "            return store_distance_df[\n",
    "            (store_distance_df['village_code_0'] == from_code) & (store_distance_df['village_code_1'] == to_code)][\n",
    "            'navi_distance'].values[0]\n",
    "        else:\n",
    "            return 0\n",
    "\n",
    "    transit_callback_index = routing.RegisterTransitCallback(distance_callback)\n",
    "    # Define cost of each arc.\n",
    "    routing.SetArcCostEvaluatorOfAllVehicles(transit_callback_index)\n",
    "    # Setting first solution heuristic.\n",
    "    search_parameters = pywrapcp.DefaultRoutingSearchParameters()\n",
    "    search_parameters.first_solution_strategy = (\n",
    "        routing_enums_pb2.FirstSolutionStrategy.PATH_CHEAPEST_ARC)\n",
    "    solution = routing.SolveWithParameters(search_parameters)\n",
    "    total_distance = 0\n",
    "    route_order = ''\n",
    "    \n",
    "    def print_solution(manager, routing, solution):\n",
    "        t_d = solution.ObjectiveValue()\n",
    "        r_o =[]\n",
    "        index = routing.Start(0)\n",
    "        while not routing.IsEnd(index):\n",
    "            r_o.append(store_table.loc[int(index),'门店编号'])\n",
    "            index = solution.Value(routing.NextVar(index))\n",
    "            \n",
    "        return t_d,','.join(r_o)\n",
    "    \n",
    "    if solution:\n",
    "        total_distance,route_order = print_solution(manager, routing, solution)\n",
    "    return total_distance,route_order"
   ]
  },
  {
   "cell_type": "code",
   "execution_count": 10,
   "metadata": {
    "scrolled": true
   },
   "outputs": [
    {
     "data": {
      "text/plain": [
       "0            白苍岭小区奶屋\n",
       "1          北湖建兴园菜鸟驿站\n",
       "2              博白白切饭\n",
       "3    菜鸟驿站唐山路54号103铺店\n",
       "4              丹群杂货店\n",
       "Name: 门店名称, dtype: object"
      ]
     },
     "execution_count": 10,
     "metadata": {},
     "output_type": "execute_result"
    }
   ],
   "source": [
    "temp_df.head()"
   ]
  },
  {
   "cell_type": "code",
   "execution_count": 10,
   "metadata": {},
   "outputs": [
    {
     "ename": "SyntaxError",
     "evalue": "'continue' not properly in loop (<ipython-input-10-73f7d3ffb67a>, line 19)",
     "output_type": "error",
     "traceback": [
      "\u001b[1;36m  File \u001b[1;32m\"<ipython-input-10-73f7d3ffb67a>\"\u001b[1;36m, line \u001b[1;32m19\u001b[0m\n\u001b[1;33m    st_df.loc[-1] = ['0', 114.606, 37.9361]  # adding a row\u001b[0m\n\u001b[1;37m               ^\u001b[0m\n\u001b[1;31mSyntaxError\u001b[0m\u001b[1;31m:\u001b[0m 'continue' not properly in loop\n"
     ]
    }
   ],
   "source": [
    "#创建距离，线路dict\n",
    "distance_dict = {}\n",
    "route_dict = {}\n",
    "#遍历key value的值\n",
    "#for key,value in dt_gx.items():\n",
    "temp_df = dt_gx.copy()\n",
    "store_info = pd.read_sql(\"select storeCode,mapX, mapY from xsyx_frxs_base.t_store where storeCode in \"+str(tuple(temp_df['门店编号'].values.tolist())),conn)\n",
    "temp_df['lat'] = store_info['mapY']\n",
    "temp_df['lng'] = store_info['mapX']  \n",
    "    \n",
    "    #提取门店信息和经纬度\n",
    "st_df = temp_df[['门店编号','lng','lat']].copy()\n",
    "    \n",
    "    #去除无经纬度的门店\n",
    "if st_df['lng'].isnull().any():\n",
    "    continue\n",
    "    \n",
    "    #添加仓库地址\n",
    "st_df.loc[-1] = ['0', 114.606, 37.9361]  # adding a row\n",
    "st_df.index = st_df.index + 1  # shifting index\n",
    "st_df.sort_index(inplace=True)\n",
    "    #value to list for use itertools.combination\n",
    "lnglat = st_df.values.tolist()\n",
    "dist_combination = list(itertools.combinations(lnglat, 2))\n",
    "    \n",
    "    #路径编码排序 for storage in database\n",
    "reordered_list = []\n",
    "for i in dist_combination:\n",
    "    temp_list = []\n",
    "    index = ''\n",
    "    if str(i[0][0]) > str(i[1][0]): \n",
    "        index = str(i[1][0])+'-'+str(i[0][0])\n",
    "        temp_list.extend(i[1]+i[0])\n",
    "    else:\n",
    "        index = str(i[0][0])+'-'+str(i[1][0])\n",
    "        temp_list.extend(i[0]+i[1])\n",
    "    temp_list.append(index)\n",
    "    reordered_list.append(temp_list)\n",
    "    \n",
    "    #apply 排序函数to dataframe \n",
    "cal_combination_df = pd.DataFrame(data=reordered_list,columns=['village_code_0','lon0','lat0','village_code_1','lon1','lat1','village_distance_index'])\n",
    "    #将编码转成string\n",
    "cal_combination_df['village_code_0'] = cal_combination_df['village_code_0'].astype(str)\n",
    "cal_combination_df['village_code_1'] = cal_combination_df['village_code_1'].astype(str)\n",
    "    #高德API调导航距离\n",
    "cal_combination_df_return = sub_task(cal_combination_df)\n",
    "    #将导航距离转成integer\n",
    "cal_combination_df_return['navi_distance'] = cal_combination_df_return.apply(lambda df:int(df['navi_distance']),axis=1)\n",
    "    \n",
    "    #调用google or tools\n",
    "d,r = get_route_total_distance(st_df,cal_combination_df_return)\n",
    "    #\n",
    "distance_dict[key] = d\n",
    "route_dict[key] = r\n",
    "\n"
   ]
  },
  {
   "cell_type": "code",
   "execution_count": 41,
   "metadata": {
    "scrolled": true
   },
   "outputs": [],
   "source": [
    "distance_df = pd.DataFrame.from_records(distance_dict, index=[0]) "
   ]
  },
  {
   "cell_type": "code",
   "execution_count": 42,
   "metadata": {},
   "outputs": [],
   "source": [
    "route_df = pd.DataFrame.from_records(route_dict, index=[0]) "
   ]
  },
  {
   "cell_type": "code",
   "execution_count": 43,
   "metadata": {},
   "outputs": [],
   "source": [
    "final_result = pd.concat([distance_df, route_df], ignore_index=True)"
   ]
  },
  {
   "cell_type": "code",
   "execution_count": 44,
   "metadata": {},
   "outputs": [],
   "source": [
    "final_result.rename({0: '路程（km）', 1: '线路'}, inplace=True)"
   ]
  },
  {
   "cell_type": "code",
   "execution_count": 45,
   "metadata": {},
   "outputs": [],
   "source": [
    "final_result.to_excel('河北线路.xlsx')"
   ]
  },
  {
   "cell_type": "code",
   "execution_count": 7,
   "metadata": {},
   "outputs": [],
   "source": []
  },
  {
   "cell_type": "code",
   "execution_count": 11,
   "metadata": {},
   "outputs": [],
   "source": [
    "store_df = dt_gx[['门店编号','lng','lat']].copy()"
   ]
  },
  {
   "cell_type": "code",
   "execution_count": 8,
   "metadata": {},
   "outputs": [],
   "source": [
    "def geo_location_distance(o_X, o_Y, d_X, d_Y):\n",
    "#     '''\n",
    "#     根据经纬度调用高德API获取导航距离（使用距离最短策略:strategy=2）\n",
    "#     :param o_X:起点经度\n",
    "#     :param o_Y:起点纬度\n",
    "#     :param d_X:终点经度\n",
    "#     :param d_Y:终点纬度\n",
    "#     :return:导航距离（km为单位）\n",
    "#     '''\n",
    "    k = 'c33b02b68bd7785d75ed05f0178a8e05'\n",
    "    if d_X == 0 or d_Y == 0 or str(d_X).lower().strip() == 'nan':\n",
    "        return 999\n",
    "    origin = str(o_X) + ',' + str(o_Y)\n",
    "    destination = str(d_X) + ',' + str(d_Y)\n",
    "\n",
    "    #url = \"https://restapi.amap.com/v3/direction/driving?key=%s&origin=%s&destination=%s&strategy=0&extensions=base\" % (\n",
    "        #k, origin, destination)\n",
    "\n",
    "    url = \"https://restapi.amap.com/v3/distance?key=%s&origins=%s&destination=%s&type=1\" % (\n",
    "        k, origin, destination)\n",
    "\n",
    "    headers = {'Connection': 'close', }\n",
    "\n",
    "    try:\n",
    "        data = requests.get(url, headers=headers)\n",
    "        contest = data.json()\n",
    "        if contest['status'] == '1':\n",
    "            # route = contest['route']\n",
    "            # result = route['paths'][0]\n",
    "            # out = float(result['distance']) / 1000\n",
    "            result = contest['results'][0]\n",
    "            out = float(result['distance']) / 1000\n",
    "        else:\n",
    "            print(contest['info'])\n",
    "            print(d_Y)\n",
    "            out = 999\n",
    "    except:\n",
    "        out = 999\n",
    "    return out"
   ]
  },
  {
   "cell_type": "code",
   "execution_count": 31,
   "metadata": {},
   "outputs": [],
   "source": [
    "cal_combination_df = pd.DataFrame(data=reordered_list,columns=['village_code_0','lon0','lat0','village_code_1','lon1','lat1','village_distance_index'])"
   ]
  },
  {
   "cell_type": "code",
   "execution_count": 34,
   "metadata": {},
   "outputs": [
    {
     "name": "stdout",
     "output_type": "stream",
     "text": [
      "0 start!\n"
     ]
    }
   ],
   "source": [
    "sub_task(cal_combination_df,0)"
   ]
  },
  {
   "cell_type": "markdown",
   "metadata": {},
   "source": [
    "### 路径规划"
   ]
  },
  {
   "cell_type": "code",
   "execution_count": 37,
   "metadata": {},
   "outputs": [],
   "source": [
    "store_table = store_df.copy()\n",
    "store_distance_df = gx_distance.copy()"
   ]
  },
  {
   "cell_type": "code",
   "execution_count": 38,
   "metadata": {
    "scrolled": true
   },
   "outputs": [
    {
     "data": {
      "text/html": [
       "<div>\n",
       "<style scoped>\n",
       "    .dataframe tbody tr th:only-of-type {\n",
       "        vertical-align: middle;\n",
       "    }\n",
       "\n",
       "    .dataframe tbody tr th {\n",
       "        vertical-align: top;\n",
       "    }\n",
       "\n",
       "    .dataframe thead th {\n",
       "        text-align: right;\n",
       "    }\n",
       "</style>\n",
       "<table border=\"1\" class=\"dataframe\">\n",
       "  <thead>\n",
       "    <tr style=\"text-align: right;\">\n",
       "      <th></th>\n",
       "      <th>门店编号</th>\n",
       "      <th>lng</th>\n",
       "      <th>lat</th>\n",
       "    </tr>\n",
       "  </thead>\n",
       "  <tbody>\n",
       "    <tr>\n",
       "      <th>0</th>\n",
       "      <td>0</td>\n",
       "      <td>108.536000</td>\n",
       "      <td>22.808600</td>\n",
       "    </tr>\n",
       "    <tr>\n",
       "      <th>1</th>\n",
       "      <td>450107100141</td>\n",
       "      <td>108.321327</td>\n",
       "      <td>22.831444</td>\n",
       "    </tr>\n",
       "    <tr>\n",
       "      <th>2</th>\n",
       "      <td>450107101124</td>\n",
       "      <td>108.295914</td>\n",
       "      <td>22.828035</td>\n",
       "    </tr>\n",
       "    <tr>\n",
       "      <th>3</th>\n",
       "      <td>450107101506</td>\n",
       "      <td>108.300827</td>\n",
       "      <td>22.824060</td>\n",
       "    </tr>\n",
       "    <tr>\n",
       "      <th>4</th>\n",
       "      <td>450107101580</td>\n",
       "      <td>108.295853</td>\n",
       "      <td>22.825460</td>\n",
       "    </tr>\n",
       "  </tbody>\n",
       "</table>\n",
       "</div>"
      ],
      "text/plain": [
       "           门店编号         lng        lat\n",
       "0             0  108.536000  22.808600\n",
       "1  450107100141  108.321327  22.831444\n",
       "2  450107101124  108.295914  22.828035\n",
       "3  450107101506  108.300827  22.824060\n",
       "4  450107101580  108.295853  22.825460"
      ]
     },
     "execution_count": 38,
     "metadata": {},
     "output_type": "execute_result"
    }
   ],
   "source": [
    "store_table.head()"
   ]
  },
  {
   "cell_type": "code",
   "execution_count": 39,
   "metadata": {},
   "outputs": [
    {
     "data": {
      "text/html": [
       "<div>\n",
       "<style scoped>\n",
       "    .dataframe tbody tr th:only-of-type {\n",
       "        vertical-align: middle;\n",
       "    }\n",
       "\n",
       "    .dataframe tbody tr th {\n",
       "        vertical-align: top;\n",
       "    }\n",
       "\n",
       "    .dataframe thead th {\n",
       "        text-align: right;\n",
       "    }\n",
       "</style>\n",
       "<table border=\"1\" class=\"dataframe\">\n",
       "  <thead>\n",
       "    <tr style=\"text-align: right;\">\n",
       "      <th></th>\n",
       "      <th>Unnamed: 0</th>\n",
       "      <th>village_code_0</th>\n",
       "      <th>lon0</th>\n",
       "      <th>lat0</th>\n",
       "      <th>village_code_1</th>\n",
       "      <th>lon1</th>\n",
       "      <th>lat1</th>\n",
       "      <th>village_distance_index</th>\n",
       "      <th>navi_distance</th>\n",
       "    </tr>\n",
       "  </thead>\n",
       "  <tbody>\n",
       "    <tr>\n",
       "      <th>0</th>\n",
       "      <td>0</td>\n",
       "      <td>0</td>\n",
       "      <td>108.536</td>\n",
       "      <td>22.8086</td>\n",
       "      <td>450107100141</td>\n",
       "      <td>108.321327</td>\n",
       "      <td>22.831444</td>\n",
       "      <td>0-450107100141</td>\n",
       "      <td>27.626</td>\n",
       "    </tr>\n",
       "    <tr>\n",
       "      <th>1</th>\n",
       "      <td>1</td>\n",
       "      <td>0</td>\n",
       "      <td>108.536</td>\n",
       "      <td>22.8086</td>\n",
       "      <td>450107101124</td>\n",
       "      <td>108.295914</td>\n",
       "      <td>22.828035</td>\n",
       "      <td>0-450107101124</td>\n",
       "      <td>28.676</td>\n",
       "    </tr>\n",
       "    <tr>\n",
       "      <th>2</th>\n",
       "      <td>2</td>\n",
       "      <td>0</td>\n",
       "      <td>108.536</td>\n",
       "      <td>22.8086</td>\n",
       "      <td>450107101506</td>\n",
       "      <td>108.300827</td>\n",
       "      <td>22.824060</td>\n",
       "      <td>0-450107101506</td>\n",
       "      <td>27.545</td>\n",
       "    </tr>\n",
       "    <tr>\n",
       "      <th>3</th>\n",
       "      <td>3</td>\n",
       "      <td>0</td>\n",
       "      <td>108.536</td>\n",
       "      <td>22.8086</td>\n",
       "      <td>450107101580</td>\n",
       "      <td>108.295853</td>\n",
       "      <td>22.825460</td>\n",
       "      <td>0-450107101580</td>\n",
       "      <td>27.591</td>\n",
       "    </tr>\n",
       "    <tr>\n",
       "      <th>4</th>\n",
       "      <td>4</td>\n",
       "      <td>0</td>\n",
       "      <td>108.536</td>\n",
       "      <td>22.8086</td>\n",
       "      <td>450107100762</td>\n",
       "      <td>108.317253</td>\n",
       "      <td>22.831120</td>\n",
       "      <td>0-450107100762</td>\n",
       "      <td>30.302</td>\n",
       "    </tr>\n",
       "  </tbody>\n",
       "</table>\n",
       "</div>"
      ],
      "text/plain": [
       "   Unnamed: 0  village_code_0     lon0     lat0  village_code_1        lon1  \\\n",
       "0           0               0  108.536  22.8086    450107100141  108.321327   \n",
       "1           1               0  108.536  22.8086    450107101124  108.295914   \n",
       "2           2               0  108.536  22.8086    450107101506  108.300827   \n",
       "3           3               0  108.536  22.8086    450107101580  108.295853   \n",
       "4           4               0  108.536  22.8086    450107100762  108.317253   \n",
       "\n",
       "        lat1 village_distance_index  navi_distance  \n",
       "0  22.831444         0-450107100141         27.626  \n",
       "1  22.828035         0-450107101124         28.676  \n",
       "2  22.824060         0-450107101506         27.545  \n",
       "3  22.825460         0-450107101580         27.591  \n",
       "4  22.831120         0-450107100762         30.302  "
      ]
     },
     "execution_count": 39,
     "metadata": {},
     "output_type": "execute_result"
    }
   ],
   "source": [
    "store_distance_df.head()"
   ]
  },
  {
   "cell_type": "code",
   "execution_count": 107,
   "metadata": {},
   "outputs": [],
   "source": [
    "# Solve the problem.\n",
    "solution = routing.SolveWithParameters(search_parameters)"
   ]
  },
  {
   "cell_type": "code",
   "execution_count": 108,
   "metadata": {},
   "outputs": [],
   "source": [
    "def print_solution(manager, routing, solution):\n",
    "    \"\"\"Prints solution on console.\"\"\"\n",
    "    print('Objective: {} km'.format(solution.ObjectiveValue()))\n",
    "    index = routing.Start(0)\n",
    "    plan_output = 'Route for vehicle 0:\\n'\n",
    "    route_distance = 0\n",
    "    while not routing.IsEnd(index):\n",
    "        plan_output += ' {} ->'.format(manager.IndexToNode(index))\n",
    "        previous_index = index\n",
    "        index = solution.Value(routing.NextVar(index))\n",
    "        route_distance += routing.GetArcCostForVehicle(previous_index, index, 0)\n",
    "    plan_output += ' {}\\n'.format(manager.IndexToNode(index))\n",
    "    print(plan_output)\n",
    "    plan_output += 'Route distance: {}km\\n'.format(route_distance)\n"
   ]
  },
  {
   "cell_type": "code",
   "execution_count": 109,
   "metadata": {
    "scrolled": true
   },
   "outputs": [
    {
     "name": "stdout",
     "output_type": "stream",
     "text": [
      "Objective: 35 km\n",
      "Route for vehicle 0:\n",
      " 0 -> 21 -> 3 -> 18 -> 23 -> 15 -> 13 -> 14 -> 7 -> 28 -> 29 -> 26 -> 6 -> 4 -> 25 -> 20 -> 8 -> 2 -> 30 -> 12 -> 11 -> 9 -> 10 -> 5 -> 22 -> 1 -> 27 -> 24 -> 19 -> 16 -> 17 -> 0\n",
      "\n"
     ]
    }
   ],
   "source": [
    " # Print solution on console.\n",
    "if solution:\n",
    "    print_solution(manager, routing, solution)"
   ]
  },
  {
   "cell_type": "code",
   "execution_count": 114,
   "metadata": {},
   "outputs": [
    {
     "data": {
      "text/html": [
       "<div>\n",
       "<style scoped>\n",
       "    .dataframe tbody tr th:only-of-type {\n",
       "        vertical-align: middle;\n",
       "    }\n",
       "\n",
       "    .dataframe tbody tr th {\n",
       "        vertical-align: top;\n",
       "    }\n",
       "\n",
       "    .dataframe thead th {\n",
       "        text-align: right;\n",
       "    }\n",
       "</style>\n",
       "<table border=\"1\" class=\"dataframe\">\n",
       "  <thead>\n",
       "    <tr style=\"text-align: right;\">\n",
       "      <th></th>\n",
       "      <th>Unnamed: 0</th>\n",
       "      <th>village_code_0</th>\n",
       "      <th>lon0</th>\n",
       "      <th>lat0</th>\n",
       "      <th>village_code_1</th>\n",
       "      <th>lon1</th>\n",
       "      <th>lat1</th>\n",
       "      <th>village_distance_index</th>\n",
       "      <th>navi_distance</th>\n",
       "    </tr>\n",
       "  </thead>\n",
       "  <tbody>\n",
       "    <tr>\n",
       "      <th>0</th>\n",
       "      <td>0</td>\n",
       "      <td>0</td>\n",
       "      <td>108.536</td>\n",
       "      <td>22.8086</td>\n",
       "      <td>450107100141</td>\n",
       "      <td>108.321327</td>\n",
       "      <td>22.831444</td>\n",
       "      <td>0-450107100141</td>\n",
       "      <td>27.626</td>\n",
       "    </tr>\n",
       "    <tr>\n",
       "      <th>1</th>\n",
       "      <td>1</td>\n",
       "      <td>0</td>\n",
       "      <td>108.536</td>\n",
       "      <td>22.8086</td>\n",
       "      <td>450107101124</td>\n",
       "      <td>108.295914</td>\n",
       "      <td>22.828035</td>\n",
       "      <td>0-450107101124</td>\n",
       "      <td>28.676</td>\n",
       "    </tr>\n",
       "  </tbody>\n",
       "</table>\n",
       "</div>"
      ],
      "text/plain": [
       "   Unnamed: 0 village_code_0     lon0     lat0 village_code_1        lon1  \\\n",
       "0           0              0  108.536  22.8086   450107100141  108.321327   \n",
       "1           1              0  108.536  22.8086   450107101124  108.295914   \n",
       "\n",
       "        lat1 village_distance_index  navi_distance  \n",
       "0  22.831444         0-450107100141         27.626  \n",
       "1  22.828035         0-450107101124         28.676  "
      ]
     },
     "execution_count": 114,
     "metadata": {},
     "output_type": "execute_result"
    }
   ],
   "source": [
    "store_distance_df.head(2)"
   ]
  },
  {
   "cell_type": "code",
   "execution_count": 112,
   "metadata": {},
   "outputs": [
    {
     "data": {
      "text/plain": [
       "(35,\n",
       " '0,50221707,450107101506,450107100432,50220094,450107100846,450102100003,450107101088,450107100884,450107101438,450107100782,450107100784,450107101077,450107101580,50220620,50221004,450107100082,450107101124,450102100624,450107100245,450107101045,450107100592,450107100067,450107100762,50221117,450107100141,50220582,50221241,450107100398,450107101083,450107100308')"
      ]
     },
     "execution_count": 112,
     "metadata": {},
     "output_type": "execute_result"
    }
   ],
   "source": [
    "get_route_total_distance(store_table,store_distance_df)"
   ]
  },
  {
   "cell_type": "markdown",
   "metadata": {},
   "source": [
    "## 路径规划函数"
   ]
  },
  {
   "cell_type": "code",
   "execution_count": 9,
   "metadata": {},
   "outputs": [],
   "source": [
    "def get_route_total_distance(store_table,store_distance_df):\n",
    "    #调用or tools, assign origin and vehicle \n",
    "    manager = pywrapcp.RoutingIndexManager(store_table.shape[0],\n",
    "                                       1, 0)\n",
    "    routing = pywrapcp.RoutingModel(manager)\n",
    "    \n",
    "    def distance_callback(from_index, to_index):\n",
    "#         \"\"\"Returns the distance between the two nodes.\"\"\"\n",
    "        # Convert from routing variable Index to distance matrix NodeIndex.\n",
    "        from_node = manager.IndexToNode(from_index)\n",
    "        to_node = manager.IndexToNode(to_index)\n",
    "\n",
    "        #只计算单程线路，不计算返程，将所有目的地为仓库的距离排除计算外\n",
    "        if to_node == 0:\n",
    "            return 0\n",
    "    \n",
    "#     from_node = from_index\n",
    "#     to_node = to_index\n",
    "        from_code = store_table.loc[int(from_node),'门店编号']\n",
    "        to_code = store_table.loc[int(to_node),'门店编号']\n",
    "    \n",
    "#     print(from_code)\n",
    "#     print(to_code)\n",
    "    \n",
    "    \n",
    "        if from_code > to_code:\n",
    "            return store_distance_df[\n",
    "            (store_distance_df['village_code_0'] == to_code) & (store_distance_df['village_code_1'] == from_code)][\n",
    "            'navi_distance'].values[0]\n",
    "        elif from_code < to_code:\n",
    "            return store_distance_df[\n",
    "            (store_distance_df['village_code_0'] == from_code) & (store_distance_df['village_code_1'] == to_code)][\n",
    "            'navi_distance'].values[0]\n",
    "        else:\n",
    "            return 0\n",
    "\n",
    "    transit_callback_index = routing.RegisterTransitCallback(distance_callback)\n",
    "    # Define cost of each arc.\n",
    "    routing.SetArcCostEvaluatorOfAllVehicles(transit_callback_index)\n",
    "    # Setting first solution heuristic.\n",
    "    search_parameters = pywrapcp.DefaultRoutingSearchParameters()\n",
    "    search_parameters.first_solution_strategy = (\n",
    "        routing_enums_pb2.FirstSolutionStrategy.PATH_CHEAPEST_ARC)\n",
    "    solution = routing.SolveWithParameters(search_parameters)\n",
    "    total_distance = 0\n",
    "    route_order = ''\n",
    "    \n",
    "    def print_solution(manager, routing, solution):\n",
    "        t_d = solution.ObjectiveValue()\n",
    "        r_o =[]\n",
    "        index = routing.Start(0)\n",
    "        while not routing.IsEnd(index):\n",
    "            r_o.append(store_table.loc[int(index),'门店编号'])\n",
    "            index = solution.Value(routing.NextVar(index))\n",
    "            \n",
    "        return t_d,','.join(r_o)\n",
    "    \n",
    "    if solution:\n",
    "        total_distance,route_order = print_solution(manager, routing, solution)\n",
    "    return total_distance,route_order"
   ]
  },
  {
   "cell_type": "code",
   "execution_count": null,
   "metadata": {},
   "outputs": [],
   "source": [
    "for route in route_list:\n",
    "#     读取线路门店列表和距离矩阵.;\n",
    "    store_table = store_df.copy()\n",
    "    store_distance_df = gx_distance.copy()\n",
    "#     定义manager\n",
    "    manager = pywrapcp.RoutingIndexManager(store_table.shape[0],\n",
    "                                       1, 0)\n",
    "    routing = pywrapcp.RoutingModel(manager)\n",
    "    "
   ]
  },
  {
   "cell_type": "code",
   "execution_count": 185,
   "metadata": {},
   "outputs": [
    {
     "data": {
      "text/html": [
       "<div>\n",
       "<style scoped>\n",
       "    .dataframe tbody tr th:only-of-type {\n",
       "        vertical-align: middle;\n",
       "    }\n",
       "\n",
       "    .dataframe tbody tr th {\n",
       "        vertical-align: top;\n",
       "    }\n",
       "\n",
       "    .dataframe thead th {\n",
       "        text-align: right;\n",
       "    }\n",
       "</style>\n",
       "<table border=\"1\" class=\"dataframe\">\n",
       "  <thead>\n",
       "    <tr style=\"text-align: right;\">\n",
       "      <th></th>\n",
       "      <th>village_code_0</th>\n",
       "      <th>lon0</th>\n",
       "      <th>lat0</th>\n",
       "      <th>village_code_1</th>\n",
       "      <th>lon1</th>\n",
       "      <th>lat1</th>\n",
       "      <th>village_distance_index</th>\n",
       "      <th>navi_distance</th>\n",
       "    </tr>\n",
       "  </thead>\n",
       "  <tbody>\n",
       "    <tr>\n",
       "      <th>0</th>\n",
       "      <td>0</td>\n",
       "      <td>108.536</td>\n",
       "      <td>22.8086</td>\n",
       "      <td>450107100697</td>\n",
       "      <td>108.307602</td>\n",
       "      <td>22.847441</td>\n",
       "      <td>0-450107100697</td>\n",
       "      <td>31</td>\n",
       "    </tr>\n",
       "    <tr>\n",
       "      <th>1</th>\n",
       "      <td>0</td>\n",
       "      <td>108.536</td>\n",
       "      <td>22.8086</td>\n",
       "      <td>450107100346</td>\n",
       "      <td>108.314674</td>\n",
       "      <td>22.843071</td>\n",
       "      <td>0-450107100346</td>\n",
       "      <td>29</td>\n",
       "    </tr>\n",
       "    <tr>\n",
       "      <th>2</th>\n",
       "      <td>0</td>\n",
       "      <td>108.536</td>\n",
       "      <td>22.8086</td>\n",
       "      <td>450107100260</td>\n",
       "      <td>108.307945</td>\n",
       "      <td>22.850910</td>\n",
       "      <td>0-450107100260</td>\n",
       "      <td>30</td>\n",
       "    </tr>\n",
       "    <tr>\n",
       "      <th>3</th>\n",
       "      <td>0</td>\n",
       "      <td>108.536</td>\n",
       "      <td>22.8086</td>\n",
       "      <td>450107100829</td>\n",
       "      <td>108.305450</td>\n",
       "      <td>22.841141</td>\n",
       "      <td>0-450107100829</td>\n",
       "      <td>31</td>\n",
       "    </tr>\n",
       "    <tr>\n",
       "      <th>4</th>\n",
       "      <td>0</td>\n",
       "      <td>108.536</td>\n",
       "      <td>22.8086</td>\n",
       "      <td>450107101133</td>\n",
       "      <td>108.309860</td>\n",
       "      <td>22.846415</td>\n",
       "      <td>0-450107101133</td>\n",
       "      <td>31</td>\n",
       "    </tr>\n",
       "  </tbody>\n",
       "</table>\n",
       "</div>"
      ],
      "text/plain": [
       "  village_code_0     lon0     lat0 village_code_1        lon1       lat1  \\\n",
       "0              0  108.536  22.8086   450107100697  108.307602  22.847441   \n",
       "1              0  108.536  22.8086   450107100346  108.314674  22.843071   \n",
       "2              0  108.536  22.8086   450107100260  108.307945  22.850910   \n",
       "3              0  108.536  22.8086   450107100829  108.305450  22.841141   \n",
       "4              0  108.536  22.8086   450107101133  108.309860  22.846415   \n",
       "\n",
       "  village_distance_index  navi_distance  \n",
       "0         0-450107100697             31  \n",
       "1         0-450107100346             29  \n",
       "2         0-450107100260             30  \n",
       "3         0-450107100829             31  \n",
       "4         0-450107101133             31  "
      ]
     },
     "execution_count": 185,
     "metadata": {},
     "output_type": "execute_result"
    }
   ],
   "source": [
    "cal_combination_df_return.head()"
   ]
  },
  {
   "cell_type": "code",
   "execution_count": null,
   "metadata": {},
   "outputs": [],
   "source": []
  }
 ],
 "metadata": {
  "kernelspec": {
   "display_name": "Python 3",
   "language": "python",
   "name": "python3"
  },
  "language_info": {
   "codemirror_mode": {
    "name": "ipython",
    "version": 3
   },
   "file_extension": ".py",
   "mimetype": "text/x-python",
   "name": "python",
   "nbconvert_exporter": "python",
   "pygments_lexer": "ipython3",
   "version": "3.6.10"
  },
  "pycharm": {
   "stem_cell": {
    "cell_type": "raw",
    "metadata": {
     "collapsed": false
    },
    "source": []
   }
  }
 },
 "nbformat": 4,
 "nbformat_minor": 2
}
