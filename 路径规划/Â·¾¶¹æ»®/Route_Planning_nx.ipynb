{
 "cells": [
  {
   "cell_type": "code",
   "execution_count": 1,
   "metadata": {
    "pycharm": {
     "is_executing": false
    }
   },
   "outputs": [],
   "source": [
    "import pandas as pd \n",
    "import numpy as np\n",
    "import itertools \n",
    "import requests\n",
    "import ortools\n",
    "import os"
   ]
  },
  {
   "cell_type": "code",
   "execution_count": 2,
   "metadata": {
    "pycharm": {
     "is_executing": false
    }
   },
   "outputs": [],
   "source": [
    "from ortools.constraint_solver import routing_enums_pb2\n",
    "from ortools.constraint_solver import pywrapcp"
   ]
  },
  {
   "cell_type": "code",
   "execution_count": 3,
   "metadata": {
    "pycharm": {
     "is_executing": false
    }
   },
   "outputs": [],
   "source": [
    "nx = pd.read_excel('南洲镇网格站覆盖门店信息_1202(1).xlsx',dtype={'StoreCode':str})"
   ]
  },
  {
   "cell_type": "code",
   "execution_count": 4,
   "metadata": {
    "pycharm": {
     "is_executing": false
    },
    "scrolled": true
   },
   "outputs": [
    {
     "data": {
      "text/html": [
       "<div>\n",
       "<style scoped>\n",
       "    .dataframe tbody tr th:only-of-type {\n",
       "        vertical-align: middle;\n",
       "    }\n",
       "\n",
       "    .dataframe tbody tr th {\n",
       "        vertical-align: top;\n",
       "    }\n",
       "\n",
       "    .dataframe thead th {\n",
       "        text-align: right;\n",
       "    }\n",
       "</style>\n",
       "<table border=\"1\" class=\"dataframe\">\n",
       "  <thead>\n",
       "    <tr style=\"text-align: right;\">\n",
       "      <th></th>\n",
       "      <th>Unnamed: 0</th>\n",
       "      <th>StoreCode</th>\n",
       "      <th>SName</th>\n",
       "      <th>Longitude</th>\n",
       "      <th>Latitude</th>\n",
       "      <th>d_avg</th>\n",
       "      <th>directorId</th>\n",
       "      <th>directorName</th>\n",
       "      <th>endDeliveryTime</th>\n",
       "    </tr>\n",
       "  </thead>\n",
       "  <tbody>\n",
       "    <tr>\n",
       "      <th>0</th>\n",
       "      <td>NaN</td>\n",
       "      <td>0</td>\n",
       "      <td>0</td>\n",
       "      <td>112.378082</td>\n",
       "      <td>29.357763</td>\n",
       "      <td>0</td>\n",
       "      <td>0</td>\n",
       "      <td>0</td>\n",
       "      <td>2020-12-02 00:00:00</td>\n",
       "    </tr>\n",
       "    <tr>\n",
       "      <th>1</th>\n",
       "      <td>0.0</td>\n",
       "      <td>00055878</td>\n",
       "      <td>南县南洲李灿超市</td>\n",
       "      <td>112.400640</td>\n",
       "      <td>29.363728</td>\n",
       "      <td>42</td>\n",
       "      <td>23822</td>\n",
       "      <td>H_祝有益</td>\n",
       "      <td>2020-11-28 08:15:58</td>\n",
       "    </tr>\n",
       "    <tr>\n",
       "      <th>2</th>\n",
       "      <td>1.0</td>\n",
       "      <td>00053326</td>\n",
       "      <td>南县南洲佳平便利店</td>\n",
       "      <td>112.406280</td>\n",
       "      <td>29.368052</td>\n",
       "      <td>114</td>\n",
       "      <td>23821</td>\n",
       "      <td>F_熊孟良</td>\n",
       "      <td>2020-11-28 10:26:10</td>\n",
       "    </tr>\n",
       "    <tr>\n",
       "      <th>3</th>\n",
       "      <td>2.0</td>\n",
       "      <td>50050895</td>\n",
       "      <td>南县南洲洪福超市</td>\n",
       "      <td>112.399520</td>\n",
       "      <td>29.360931</td>\n",
       "      <td>60</td>\n",
       "      <td>23822</td>\n",
       "      <td>H_祝有益</td>\n",
       "      <td>2020-11-28 09:19:34</td>\n",
       "    </tr>\n",
       "    <tr>\n",
       "      <th>4</th>\n",
       "      <td>3.0</td>\n",
       "      <td>00055817</td>\n",
       "      <td>南县南洲兆廷食品店</td>\n",
       "      <td>112.425010</td>\n",
       "      <td>29.363157</td>\n",
       "      <td>92</td>\n",
       "      <td>23982</td>\n",
       "      <td>G_杨程</td>\n",
       "      <td>2020-11-28 08:08:52</td>\n",
       "    </tr>\n",
       "  </tbody>\n",
       "</table>\n",
       "</div>"
      ],
      "text/plain": [
       "   Unnamed: 0 StoreCode      SName   Longitude   Latitude  d_avg  directorId  \\\n",
       "0         NaN         0          0  112.378082  29.357763      0           0   \n",
       "1         0.0  00055878   南县南洲李灿超市  112.400640  29.363728     42       23822   \n",
       "2         1.0  00053326  南县南洲佳平便利店  112.406280  29.368052    114       23821   \n",
       "3         2.0  50050895   南县南洲洪福超市  112.399520  29.360931     60       23822   \n",
       "4         3.0  00055817  南县南洲兆廷食品店  112.425010  29.363157     92       23982   \n",
       "\n",
       "  directorName     endDeliveryTime  \n",
       "0            0 2020-12-02 00:00:00  \n",
       "1        H_祝有益 2020-11-28 08:15:58  \n",
       "2        F_熊孟良 2020-11-28 10:26:10  \n",
       "3        H_祝有益 2020-11-28 09:19:34  \n",
       "4         G_杨程 2020-11-28 08:08:52  "
      ]
     },
     "execution_count": 4,
     "metadata": {},
     "output_type": "execute_result"
    }
   ],
   "source": [
    "nx.head()"
   ]
  },
  {
   "cell_type": "code",
   "execution_count": 7,
   "metadata": {},
   "outputs": [
    {
     "data": {
      "text/html": [
       "<div>\n",
       "<style scoped>\n",
       "    .dataframe tbody tr th:only-of-type {\n",
       "        vertical-align: middle;\n",
       "    }\n",
       "\n",
       "    .dataframe tbody tr th {\n",
       "        vertical-align: top;\n",
       "    }\n",
       "\n",
       "    .dataframe thead th {\n",
       "        text-align: right;\n",
       "    }\n",
       "</style>\n",
       "<table border=\"1\" class=\"dataframe\">\n",
       "  <thead>\n",
       "    <tr style=\"text-align: right;\">\n",
       "      <th></th>\n",
       "      <th>Unnamed: 0</th>\n",
       "      <th>StoreCode</th>\n",
       "      <th>SName</th>\n",
       "      <th>Longitude</th>\n",
       "      <th>Latitude</th>\n",
       "      <th>d_avg</th>\n",
       "      <th>directorId</th>\n",
       "      <th>directorName</th>\n",
       "      <th>endDeliveryTime</th>\n",
       "      <th>capacity</th>\n",
       "    </tr>\n",
       "  </thead>\n",
       "  <tbody>\n",
       "    <tr>\n",
       "      <th>0</th>\n",
       "      <td>NaN</td>\n",
       "      <td>0</td>\n",
       "      <td>0</td>\n",
       "      <td>112.378082</td>\n",
       "      <td>29.357763</td>\n",
       "      <td>0</td>\n",
       "      <td>0</td>\n",
       "      <td>0</td>\n",
       "      <td>2020-12-02 00:00:00</td>\n",
       "      <td>850</td>\n",
       "    </tr>\n",
       "    <tr>\n",
       "      <th>1</th>\n",
       "      <td>0.0</td>\n",
       "      <td>00055878</td>\n",
       "      <td>南县南洲李灿超市</td>\n",
       "      <td>112.400640</td>\n",
       "      <td>29.363728</td>\n",
       "      <td>42</td>\n",
       "      <td>23822</td>\n",
       "      <td>H_祝有益</td>\n",
       "      <td>2020-11-28 08:15:58</td>\n",
       "      <td>850</td>\n",
       "    </tr>\n",
       "    <tr>\n",
       "      <th>2</th>\n",
       "      <td>1.0</td>\n",
       "      <td>00053326</td>\n",
       "      <td>南县南洲佳平便利店</td>\n",
       "      <td>112.406280</td>\n",
       "      <td>29.368052</td>\n",
       "      <td>114</td>\n",
       "      <td>23821</td>\n",
       "      <td>F_熊孟良</td>\n",
       "      <td>2020-11-28 10:26:10</td>\n",
       "      <td>850</td>\n",
       "    </tr>\n",
       "    <tr>\n",
       "      <th>3</th>\n",
       "      <td>2.0</td>\n",
       "      <td>50050895</td>\n",
       "      <td>南县南洲洪福超市</td>\n",
       "      <td>112.399520</td>\n",
       "      <td>29.360931</td>\n",
       "      <td>60</td>\n",
       "      <td>23822</td>\n",
       "      <td>H_祝有益</td>\n",
       "      <td>2020-11-28 09:19:34</td>\n",
       "      <td>850</td>\n",
       "    </tr>\n",
       "    <tr>\n",
       "      <th>4</th>\n",
       "      <td>3.0</td>\n",
       "      <td>00055817</td>\n",
       "      <td>南县南洲兆廷食品店</td>\n",
       "      <td>112.425010</td>\n",
       "      <td>29.363157</td>\n",
       "      <td>92</td>\n",
       "      <td>23982</td>\n",
       "      <td>G_杨程</td>\n",
       "      <td>2020-11-28 08:08:52</td>\n",
       "      <td>850</td>\n",
       "    </tr>\n",
       "  </tbody>\n",
       "</table>\n",
       "</div>"
      ],
      "text/plain": [
       "   Unnamed: 0 StoreCode      SName   Longitude   Latitude  d_avg  directorId  \\\n",
       "0         NaN         0          0  112.378082  29.357763      0           0   \n",
       "1         0.0  00055878   南县南洲李灿超市  112.400640  29.363728     42       23822   \n",
       "2         1.0  00053326  南县南洲佳平便利店  112.406280  29.368052    114       23821   \n",
       "3         2.0  50050895   南县南洲洪福超市  112.399520  29.360931     60       23822   \n",
       "4         3.0  00055817  南县南洲兆廷食品店  112.425010  29.363157     92       23982   \n",
       "\n",
       "  directorName     endDeliveryTime  capacity  \n",
       "0            0 2020-12-02 00:00:00       850  \n",
       "1        H_祝有益 2020-11-28 08:15:58       850  \n",
       "2        F_熊孟良 2020-11-28 10:26:10       850  \n",
       "3        H_祝有益 2020-11-28 09:19:34       850  \n",
       "4         G_杨程 2020-11-28 08:08:52       850  "
      ]
     },
     "execution_count": 7,
     "metadata": {},
     "output_type": "execute_result"
    }
   ],
   "source": [
    "nx.head()"
   ]
  },
  {
   "cell_type": "code",
   "execution_count": 5,
   "metadata": {},
   "outputs": [
    {
     "data": {
      "text/plain": [
       "Unnamed: 0                float64\n",
       "StoreCode                  object\n",
       "SName                      object\n",
       "Longitude                 float64\n",
       "Latitude                  float64\n",
       "d_avg                       int64\n",
       "directorId                  int64\n",
       "directorName               object\n",
       "endDeliveryTime    datetime64[ns]\n",
       "dtype: object"
      ]
     },
     "execution_count": 5,
     "metadata": {},
     "output_type": "execute_result"
    }
   ],
   "source": [
    "nx.dtypes"
   ]
  },
  {
   "cell_type": "code",
   "execution_count": null,
   "metadata": {},
   "outputs": [],
   "source": [
    "#高德地图调取导航距离\n",
    "def get_distance(ox,oy,tx,ty):\n",
    "    # https://restapi.amap.com/v3/direction/driving?parameters\n",
    "    k = 'c33b02b68bd7785d75ed05f0178a8e05'\n",
    "    if ox == 0 or oy == 0 or str(tx).lower().strip() == 'nan'\n",
    "    origin = str(ox) + ',' + str(oy)\n",
    "    destination = str(tx) + ',' + str(ty)\n",
    "    url = \"https://restapi.amap.com/v3/direction/driving?key=%s&origin=%s&destination=%s&strategy=2&extensions=base\" % (\n",
    "        k, origin, destination)\n",
    "    headers = {'connection': 'close',}\n",
    "    try:\n",
    "        data = request.get(url,headers = headers)\n",
    "        contest = data.json\n",
    "        if contest['status'] == '1'\n",
    "            route = contest['route']\n",
    "            result = route['path'][0]\n",
    "            out = float(result['distance'])/1000\n",
    "        else:\n",
    "            print(contest['info'])\n",
    "            print(ty) \n",
    "            out = 999\n",
    "        \n",
    "    except:\n",
    "        out = 999\n",
    "        \n",
    "    return out"
   ]
  },
  {
   "cell_type": "code",
   "execution_count": null,
   "metadata": {},
   "outputs": [],
   "source": [
    "#计算每个门店到彼此间的距离\n",
    "def cal_distance_for_each (cal_df):\n",
    "    requests.adapters.DEFAULT_RETRIES = 5\n",
    "    s = requests.Session()\n",
    "    s.keep_alive = False\n",
    "    cal_df['navi_distance'] = cal_df.apply(lambda df: get_distance(df['lon0'],df['lat0'],df['lon1'],df['lat1']),axis = 1)\n",
    "    return cal_df.copy()  \n",
    "\n",
    "                                                                                                                                                                                                                                                                "
   ]
  },
  {
   "cell_type": "code",
   "execution_count": null,
   "metadata": {},
   "outputs": [],
   "source": [
    "#创建遍历list\n",
    "lnglat = nx.value_to_list()\n",
    "dist_combination = list(itertools.combinations(lnglat,2))\n",
    "\n",
    "\n",
    "#路径规划排序\n",
    "order_list = []\n",
    "for i in dist_combination:\n",
    "    temp_list = []\n",
    "    index = ''\n",
    "    if str(i[0][0]) > str(i[1][0]):\n",
    "        index = str(i[1][0]) + '-' + str(i[0][0])\n",
    "        temp_list.extend(i[1]+i[0])\n",
    "    else:\n",
    "        index = str(i[0][0]) + '-' + str(i[1][0])\n",
    "        temp_list.extend(i[0]+i[1])\n",
    "    temp_list.append(index)\n",
    "    order_list.append(temp_list)\n",
    "    \n",
    "#apply 路径规划排序\n",
    "cal_combination_df = pd.DataFrame(data = order_list,columns =['village_code_0','lon0','lat0',\n",
    "                                  'village_code_1','lon1','lat1','village_distance_index'])\n",
    "#编码转换\n",
    "cal_combination_df['village_code_0'] = cal_combination_df['village_code_0'].astype(str)\n",
    "cal_combination_df['village_code_1'] = cal_combination_df['village_code_1'].astype(str)"
   ]
  },
  {
   "cell_type": "code",
   "execution_count": 8,
   "metadata": {},
   "outputs": [
    {
     "data": {
      "text/plain": [
       "[850,\n",
       " 850,\n",
       " 850,\n",
       " 850,\n",
       " 850,\n",
       " 850,\n",
       " 850,\n",
       " 850,\n",
       " 850,\n",
       " 850,\n",
       " 850,\n",
       " 850,\n",
       " 850,\n",
       " 850,\n",
       " 850,\n",
       " 850,\n",
       " 850,\n",
       " 850,\n",
       " 850,\n",
       " 850,\n",
       " 850,\n",
       " 850,\n",
       " 850,\n",
       " 850,\n",
       " 850,\n",
       " 850,\n",
       " 850,\n",
       " 850,\n",
       " 850,\n",
       " 850,\n",
       " 850,\n",
       " 850,\n",
       " 850,\n",
       " 850,\n",
       " 850,\n",
       " 850,\n",
       " 850,\n",
       " 850,\n",
       " 850,\n",
       " 850]"
      ]
     },
     "execution_count": 8,
     "metadata": {},
     "output_type": "execute_result"
    }
   ],
   "source": [
    " [850]*40"
   ]
  },
  {
   "cell_type": "code",
   "execution_count": null,
   "metadata": {
    "pycharm": {
     "name": "#%%\n"
    }
   },
   "outputs": [],
   "source": [
    "# define demands & vapacities  \n",
    "data['demands'] = cal_combination_df['d_avg']\n",
    "data['vehicle_capacities'] = [850]*40\n",
    "#路径规划函数\n",
    "def get_route_total_distance(store_table, store_distance_df):\n",
    "  manager = pywrapcp.RoutingIndexManager(store_table.shape[0], 18, 0)\n",
    "  routing = pywrapcp.RoutingModel(manager)  \n",
    "   \n",
    "    #  创建distance_callback函数\n",
    "    def distance_callback(from_index,to_index):\n",
    "        from_node = manager.IndexToNode(from_index)\n",
    "        to_node = manager.IndexToNode(to_index)\n",
    "        if to_node == 0\n",
    "            return 0\n",
    "        from_code = store_table.loc[int(from_node),'门店编号']\n",
    "        to_code = store_table.loc[int(to_node),'门店编号']\n",
    "        \n",
    "        if from_code > to_code\n",
    "            return store_distance_df[(store_distance_df['village_code_1'] ==from_node) & (store_distance_df['village_code_0'] == to_node)].values[0]\n",
    "        if from_code < to_code\n",
    "            return store_distance_df[(store_distance_df['village_code_0'] == from_code) & (store_distance_df['village_code_1'] == to_code)].values[0]\n",
    "        \n",
    "        else:\n",
    "            return 0 \n",
    "    transit_callback_index = routing.RegisterTransitCallback(distance_callback)\n",
    "      # Define cost of each arc.\n",
    "    routing.SetArcCostEvaluatorOfAllVehicles(transit_callback_index)\n",
    "     \n",
    "   # Add Capacity constraint.\n",
    "    def demand_callback(from_index):\n",
    "        \"\"\"Returns the demand of the node.\"\"\"\n",
    "        # Convert from routing variable Index to demands NodeIndex.\n",
    "        from_node = manager.IndexToNode(from_index)\n",
    "        return data['demands'][from_node]\n",
    "\n",
    "    demand_callback_index = routing.RegisterUnaryTransitCallback(\n",
    "        demand_callback)\n",
    "    routing.AddDimensionWithVehicleCapacity(\n",
    "        demand_callback_index,\n",
    "        0,  # null capacity slack\n",
    "        data['vehicle_capacities'],  # vehicle maximum capacities\n",
    "        True,  # start cumul to zero\n",
    "        'Capacity')\n",
    "  \n",
    "  # Setting first solution heuristic.\n",
    "search_parameters = pywrapcp.DefaultRoutingSearchParameters()\n",
    "search_parameters.first_solution_strategy = (\n",
    "    routing_enums_pb2.FirstSolutionStrategy.PATH_CHEAPEST_ARC)\n",
    "\n",
    "\n",
    "\n"
   ]
  }
 ],
 "metadata": {
  "kernelspec": {
   "display_name": "Python 3",
   "language": "python",
   "name": "python3"
  },
  "language_info": {
   "codemirror_mode": {
    "name": "ipython",
    "version": 3
   },
   "file_extension": ".py",
   "mimetype": "text/x-python",
   "name": "python",
   "nbconvert_exporter": "python",
   "pygments_lexer": "ipython3",
   "version": "3.6.10"
  },
  "pycharm": {
   "stem_cell": {
    "cell_type": "raw",
    "metadata": {
     "collapsed": false
    },
    "source": []
   }
  }
 },
 "nbformat": 4,
 "nbformat_minor": 4
}
