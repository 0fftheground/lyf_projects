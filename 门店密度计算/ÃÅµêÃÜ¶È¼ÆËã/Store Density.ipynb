{
 "cells": [
  {
   "cell_type": "code",
   "execution_count": 1,
   "metadata": {},
   "outputs": [],
   "source": [
    "import pandas as pd \n",
    "import numpy as np\n",
    "import requests\n",
    "from shapely.geometry import CAP_STYLE, JOIN_STYLE\n",
    "from geopandas import GeoSeries\n",
    "from shapely.geometry import Point \n",
    "from pyproj import Proj\n",
    "import geopandas as gpd"
   ]
  },
  {
   "cell_type": "code",
   "execution_count": 2,
   "metadata": {
    "scrolled": true
   },
   "outputs": [],
   "source": [
    "import pymysql\n",
    "config = {\n",
    "    'host': '192.168.1.31',\n",
    "    'port': 4000,\n",
    "    'user': 'liyufan',\n",
    "    'passwd': 'liyufan@2020',\n",
    "    'charset':'utf8mb4',\n",
    "    'cursorclass':pymysql.cursors.DictCursor\n",
    "    }\n",
    "conn = pymysql.connect(**config)"
   ]
  },
  {
   "cell_type": "code",
   "execution_count": 3,
   "metadata": {},
   "outputs": [],
   "source": [
    "store_close = pd.read_excel('0125/各省份低效清单1.25.xlsx')"
   ]
  },
  {
   "cell_type": "code",
   "execution_count": 4,
   "metadata": {
    "scrolled": true
   },
   "outputs": [
    {
     "data": {
      "text/html": [
       "<div>\n",
       "<style scoped>\n",
       "    .dataframe tbody tr th:only-of-type {\n",
       "        vertical-align: middle;\n",
       "    }\n",
       "\n",
       "    .dataframe tbody tr th {\n",
       "        vertical-align: top;\n",
       "    }\n",
       "\n",
       "    .dataframe thead th {\n",
       "        text-align: right;\n",
       "    }\n",
       "</style>\n",
       "<table border=\"1\" class=\"dataframe\">\n",
       "  <thead>\n",
       "    <tr style=\"text-align: right;\">\n",
       "      <th></th>\n",
       "      <th>区域</th>\n",
       "      <th>门店编码</th>\n",
       "      <th>countyId</th>\n",
       "      <th>mapX</th>\n",
       "      <th>mapY</th>\n",
       "    </tr>\n",
       "  </thead>\n",
       "  <tbody>\n",
       "    <tr>\n",
       "      <th>0</th>\n",
       "      <td>湖北区域</td>\n",
       "      <td>420112101531</td>\n",
       "      <td>420112</td>\n",
       "      <td>114.127449</td>\n",
       "      <td>30.617956</td>\n",
       "    </tr>\n",
       "    <tr>\n",
       "      <th>1</th>\n",
       "      <td>湖北区域</td>\n",
       "      <td>420111103060</td>\n",
       "      <td>420111</td>\n",
       "      <td>114.318237</td>\n",
       "      <td>30.520592</td>\n",
       "    </tr>\n",
       "    <tr>\n",
       "      <th>2</th>\n",
       "      <td>湖北区域</td>\n",
       "      <td>411502100337</td>\n",
       "      <td>411502</td>\n",
       "      <td>114.092239</td>\n",
       "      <td>32.110161</td>\n",
       "    </tr>\n",
       "    <tr>\n",
       "      <th>3</th>\n",
       "      <td>湖北区域</td>\n",
       "      <td>420116102966</td>\n",
       "      <td>420116</td>\n",
       "      <td>114.351501</td>\n",
       "      <td>31.095409</td>\n",
       "    </tr>\n",
       "    <tr>\n",
       "      <th>4</th>\n",
       "      <td>湖北区域</td>\n",
       "      <td>411522100384</td>\n",
       "      <td>411522</td>\n",
       "      <td>114.916229</td>\n",
       "      <td>32.026531</td>\n",
       "    </tr>\n",
       "  </tbody>\n",
       "</table>\n",
       "</div>"
      ],
      "text/plain": [
       "     区域          门店编码  countyId        mapX       mapY\n",
       "0  湖北区域  420112101531    420112  114.127449  30.617956\n",
       "1  湖北区域  420111103060    420111  114.318237  30.520592\n",
       "2  湖北区域  411502100337    411502  114.092239  32.110161\n",
       "3  湖北区域  420116102966    420116  114.351501  31.095409\n",
       "4  湖北区域  411522100384    411522  114.916229  32.026531"
      ]
     },
     "execution_count": 4,
     "metadata": {},
     "output_type": "execute_result"
    }
   ],
   "source": [
    "store_close.head()"
   ]
  },
  {
   "cell_type": "code",
   "execution_count": 5,
   "metadata": {
    "scrolled": false
   },
   "outputs": [
    {
     "data": {
      "text/plain": [
       "区域           object\n",
       "门店编码          int64\n",
       "店名           object\n",
       "countyId      int64\n",
       "mapX        float64\n",
       "mapY        float64\n",
       "dtype: object"
      ]
     },
     "execution_count": 5,
     "metadata": {},
     "output_type": "execute_result"
    }
   ],
   "source": [
    "store_close.dtypes"
   ]
  },
  {
   "cell_type": "code",
   "execution_count": 121,
   "metadata": {
    "scrolled": true
   },
   "outputs": [
    {
     "data": {
      "text/html": [
       "<div>\n",
       "<style scoped>\n",
       "    .dataframe tbody tr th:only-of-type {\n",
       "        vertical-align: middle;\n",
       "    }\n",
       "\n",
       "    .dataframe tbody tr th {\n",
       "        vertical-align: top;\n",
       "    }\n",
       "\n",
       "    .dataframe thead th {\n",
       "        text-align: right;\n",
       "    }\n",
       "</style>\n",
       "<table border=\"1\" class=\"dataframe\">\n",
       "  <thead>\n",
       "    <tr style=\"text-align: right;\">\n",
       "      <th></th>\n",
       "      <th>区域</th>\n",
       "      <th>门店编码</th>\n",
       "      <th>countyId</th>\n",
       "      <th>mapX</th>\n",
       "      <th>mapY</th>\n",
       "    </tr>\n",
       "  </thead>\n",
       "  <tbody>\n",
       "    <tr>\n",
       "      <th>7317</th>\n",
       "      <td>福建区域</td>\n",
       "      <td>350302100524</td>\n",
       "      <td>350302</td>\n",
       "      <td>119.030449</td>\n",
       "      <td>25.304600</td>\n",
       "    </tr>\n",
       "    <tr>\n",
       "      <th>7323</th>\n",
       "      <td>福建区域</td>\n",
       "      <td>50190034</td>\n",
       "      <td>350112</td>\n",
       "      <td>119.511253</td>\n",
       "      <td>25.959873</td>\n",
       "    </tr>\n",
       "  </tbody>\n",
       "</table>\n",
       "</div>"
      ],
      "text/plain": [
       "        区域          门店编码  countyId        mapX       mapY\n",
       "7317  福建区域  350302100524    350302  119.030449  25.304600\n",
       "7323  福建区域      50190034    350112  119.511253  25.959873"
      ]
     },
     "execution_count": 121,
     "metadata": {},
     "output_type": "execute_result"
    }
   ],
   "source": [
    "temp_province_store.head(2)"
   ]
  },
  {
   "cell_type": "code",
   "execution_count": 6,
   "metadata": {
    "scrolled": false
   },
   "outputs": [
    {
     "name": "stdout",
     "output_type": "stream",
     "text": [
      "湖北区域--------------\n",
      "湖南区域--------------\n",
      "江西区域--------------\n",
      "河南区域--------------\n",
      "四川区域--------------\n",
      "重庆区域--------------\n",
      "广东区域--------------\n",
      "贵州区域--------------\n",
      "广西区域--------------\n",
      "山东区域--------------\n",
      "河北区域--------------\n",
      "陕西区域--------------\n",
      "福建区域--------------\n"
     ]
    }
   ],
   "source": [
    "for province in store_close['区域'].unique():\n",
    "    print(province+\"--------------\")\n",
    "#     if province != '福建区域':\n",
    "#         continue\n",
    "    province_list = []\n",
    "    temp_province_store = store_close[store_close['区域'] == province].copy()\n",
    "    temp_province_store['门店编码'] = temp_province_store['门店编码'].astype(str)\n",
    "    #从数据库调门店地理位置\n",
    "#     store_location = pd.read_sql(\"select storeCode,countyId, areaName, mapX, mapY from xsyx_frxs_base.t_store where storeCode in\" +\n",
    "#                                  str(tuple(temp_province_store['门店编码'].values.tolist())), conn)\n",
    "    temp_store_with_location = temp_province_store.copy()\n",
    "    \n",
    "    #自定义projection  \n",
    "    p=Proj('+proj=aea +lon_0='+str(temp_store_with_location['mapX'].mean())+' +lat_1='+ str(temp_store_with_location['mapY'].min()) \n",
    "            +' +lat_2='+ str(temp_store_with_location['mapY'].max()) +' +ellps=WGS84')\n",
    "    #经纬度转成平面坐标系\n",
    "    temp_store_with_location['flat_x'],temp_store_with_location['flat_y'] = zip(*temp_store_with_location.apply(lambda df: p(df['mapX'], df['mapY']), axis=1))        \n",
    "    #将平面坐标转化为点\n",
    "    #temp_store_with_location['flat_x'] = temp_store_with_location['flat_x'].astype(float)\n",
    "    #temp_store_with_location['flat_y'] = temp_store_with_location['flat_y'].astype(float)\n",
    "    temp_store_with_location['point_xy'] =temp_store_with_location.apply(lambda df:Point(df['flat_x'],df['flat_y']),axis=1) \n",
    "    #temp_store_with_gdf = gpd.GeoDataFrame(temp_store_with_location, geometry=gpd.points_from_xy(temp_store_with_location.flat_x, temp_store_with_location.flat_x))       \n",
    "    #create a buffer for each point\n",
    "    temp_store_with_location['buffer'] = temp_store_with_location.apply(lambda df:df['point_xy'].buffer(500, cap_style=1),axis=1)\n",
    "        \n",
    "    #print(\"------store_location_loaded--------\")\n",
    "    #门店编码转码\n",
    "    #store_location['storeCode'] =store_location['storeCode'].astype(str)\n",
    "    #merge两张表\n",
    "    #temp_store_with_location = temp_province_store.merge(store_location,how='left',left_on='门店编码',right_on='storeCode')\n",
    "    #calculate density for each region\n",
    "    for county in temp_store_with_location['countyId'].unique():\n",
    "        try:\n",
    "            int(county)\n",
    "        except:\n",
    "            #排除没有经纬度信息的门店\n",
    "            no_county_store = temp_store_with_location[temp_store_with_location['countyId'].isnull()].copy()\n",
    "            no_county_store['lt20'] = 0\n",
    "            no_county_store['gt20_lt60'] = 0\n",
    "            no_county_store['gt60'] = 0\n",
    "            province_list.append(no_county_store)\n",
    "            continue\n",
    "        #调取所有关店区域正常营业的门店\n",
    "        temp_county_store_2_close = temp_store_with_location[temp_store_with_location['countyId'] == county].copy()\n",
    "        temp_county_store_all = pd.read_sql(\"select storeCode,countyId,mapX,mapY from frxs_base.t_store where storeStatus = 'NORMAL' and mapX >0 and mapY >0 and countyId =\"+str(county),conn)\n",
    "         \n",
    "        temp_county_store_all['flat_x'],temp_county_store_all['flat_y'] = zip(*temp_county_store_all.apply(lambda df: p(df['mapX'], df['mapY']), axis=1))     \n",
    "        temp_county_store_all['point_xy'] =temp_county_store_all.apply(lambda df:Point(df['flat_x'],df['flat_y']),axis=1) \n",
    "        #create a buffer for all store\n",
    "        temp_county_store_all['buffer'] = temp_county_store_all.apply(lambda df:df['point_xy'].buffer(500, cap_style=1),axis=1)\n",
    "        #算各区域的intersection\n",
    "        temp_county_store_2_close['lt20'],temp_county_store_2_close['gt20_lt60'],temp_county_store_2_close['gt60'] = zip(*temp_county_store_2_close.apply(lambda df:form_intersection(df['门店编码'],df['buffer'],temp_county_store_all),axis=1))\n",
    "        province_list.append(temp_county_store_2_close)\n",
    "    province_df = pd.concat(province_list)\n",
    "    province_df.to_excel('0125/'+province+'.xlsx')\n"
   ]
  },
  {
   "cell_type": "code",
   "execution_count": 5,
   "metadata": {
    "scrolled": true
   },
   "outputs": [],
   "source": [
    "def form_intersection(store_id,buffer,county_store):\n",
    "    try:\n",
    "        if (buffer == 'POLYGON EMPTY'):\n",
    "            return 0,0,0\n",
    "    except:\n",
    "        return 0,0,0\n",
    "    temp_store = county_store[county_store['storeCode'] != str(store_id)].copy()\n",
    "    temp_store['intersection'] = temp_store.apply(lambda df: buffer.intersection(df['buffer']),axis=1)\n",
    "#     temp_store['intersection_ratio_200'] = temp_store.apply(lambda df:df['intersection'].area / (3.14*(200**2)),axis = 1)\n",
    "    temp_store['intersection_ratio_500'] = temp_store.apply(lambda df:df['intersection'].area / (3.14*(500**2)),axis=1)                                                             \n",
    "    lt20 = temp_store[temp_store['intersection_ratio_500'] < 0.2].shape[0]\n",
    "    gt60 = temp_store[temp_store['intersection_ratio_500'] > 0.6].shape[0]\n",
    "    middle = temp_store.shape[0] - gt60 - lt20\n",
    "    return lt20,middle,gt60   \n",
    "    \n",
    "    "
   ]
  }
 ],
 "metadata": {
  "kernelspec": {
   "display_name": "Python 3",
   "language": "python",
   "name": "python3"
  },
  "language_info": {
   "codemirror_mode": {
    "name": "ipython",
    "version": 3
   },
   "file_extension": ".py",
   "mimetype": "text/x-python",
   "name": "python",
   "nbconvert_exporter": "python",
   "pygments_lexer": "ipython3",
   "version": "3.6.10"
  }
 },
 "nbformat": 4,
 "nbformat_minor": 2
}
