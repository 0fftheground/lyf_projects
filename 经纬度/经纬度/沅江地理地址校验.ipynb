{
 "cells": [
  {
   "cell_type": "code",
   "execution_count": 44,
   "metadata": {},
   "outputs": [],
   "source": [
    "import requests\n",
    "import pandas as pd\n",
    "import json\n",
    "from pandas import Series, DataFrame"
   ]
  },
  {
   "cell_type": "code",
   "execution_count": 71,
   "metadata": {},
   "outputs": [],
   "source": [
    "dt = pd.read_csv('E:\\Population\\湖南\\沅江采集经纬度\\population_collector_address_202008281456.csv')"
   ]
  },
  {
   "cell_type": "code",
   "execution_count": 72,
   "metadata": {
    "scrolled": false
   },
   "outputs": [
    {
     "data": {
      "text/html": [
       "<div>\n",
       "<style scoped>\n",
       "    .dataframe tbody tr th:only-of-type {\n",
       "        vertical-align: middle;\n",
       "    }\n",
       "\n",
       "    .dataframe tbody tr th {\n",
       "        vertical-align: top;\n",
       "    }\n",
       "\n",
       "    .dataframe thead th {\n",
       "        text-align: right;\n",
       "    }\n",
       "</style>\n",
       "<table border=\"1\" class=\"dataframe\">\n",
       "  <thead>\n",
       "    <tr style=\"text-align: right;\">\n",
       "      <th></th>\n",
       "      <th>id</th>\n",
       "      <th>address_code_number</th>\n",
       "      <th>address_name</th>\n",
       "      <th>address_latitude</th>\n",
       "      <th>address_longitude</th>\n",
       "      <th>collector_id</th>\n",
       "      <th>manager_id</th>\n",
       "      <th>collected_latitude</th>\n",
       "      <th>collected_longitude</th>\n",
       "      <th>collector_latitude</th>\n",
       "      <th>collector_longitude</th>\n",
       "      <th>population</th>\n",
       "      <th>verify_status</th>\n",
       "      <th>verifier_id</th>\n",
       "      <th>comment</th>\n",
       "      <th>create_time</th>\n",
       "      <th>update_time</th>\n",
       "    </tr>\n",
       "  </thead>\n",
       "  <tbody>\n",
       "    <tr>\n",
       "      <th>0</th>\n",
       "      <td>1</td>\n",
       "      <td>430981102204</td>\n",
       "      <td>沅江市四季红镇长征村</td>\n",
       "      <td>29.161852</td>\n",
       "      <td>112.560310</td>\n",
       "      <td>4309810</td>\n",
       "      <td>43098144</td>\n",
       "      <td>NaN</td>\n",
       "      <td>NaN</td>\n",
       "      <td>29.153702</td>\n",
       "      <td>112.552246</td>\n",
       "      <td>1920.0</td>\n",
       "      <td>verified</td>\n",
       "      <td>43098144.0</td>\n",
       "      <td>NaN</td>\n",
       "      <td>NaN</td>\n",
       "      <td>2020-08-28 14:34:45.0</td>\n",
       "    </tr>\n",
       "    <tr>\n",
       "      <th>1</th>\n",
       "      <td>2</td>\n",
       "      <td>430981102203</td>\n",
       "      <td>沅江市四季红镇玉鹊村</td>\n",
       "      <td>29.144602</td>\n",
       "      <td>112.574051</td>\n",
       "      <td>4309810</td>\n",
       "      <td>43098144</td>\n",
       "      <td>NaN</td>\n",
       "      <td>NaN</td>\n",
       "      <td>29.153702</td>\n",
       "      <td>112.552246</td>\n",
       "      <td>2400.0</td>\n",
       "      <td>verified</td>\n",
       "      <td>43098144.0</td>\n",
       "      <td>NaN</td>\n",
       "      <td>NaN</td>\n",
       "      <td>2020-08-28 14:34:50.0</td>\n",
       "    </tr>\n",
       "    <tr>\n",
       "      <th>2</th>\n",
       "      <td>3</td>\n",
       "      <td>430981102001</td>\n",
       "      <td>沅江市四季红镇四季红社区</td>\n",
       "      <td>29.126921</td>\n",
       "      <td>112.557487</td>\n",
       "      <td>4309810</td>\n",
       "      <td>43098144</td>\n",
       "      <td>NaN</td>\n",
       "      <td>NaN</td>\n",
       "      <td>29.153702</td>\n",
       "      <td>112.552246</td>\n",
       "      <td>3200.0</td>\n",
       "      <td>verified</td>\n",
       "      <td>43098144.0</td>\n",
       "      <td>NaN</td>\n",
       "      <td>NaN</td>\n",
       "      <td>2020-08-28 14:35:12.0</td>\n",
       "    </tr>\n",
       "    <tr>\n",
       "      <th>3</th>\n",
       "      <td>4</td>\n",
       "      <td>430981112258</td>\n",
       "      <td>沅江市南大膳镇双螺村</td>\n",
       "      <td>29.040511</td>\n",
       "      <td>112.672511</td>\n",
       "      <td>4309811</td>\n",
       "      <td>43098144</td>\n",
       "      <td>NaN</td>\n",
       "      <td>NaN</td>\n",
       "      <td>29.013062</td>\n",
       "      <td>112.703550</td>\n",
       "      <td>0.0</td>\n",
       "      <td>verified</td>\n",
       "      <td>43098144.0</td>\n",
       "      <td>NaN</td>\n",
       "      <td>NaN</td>\n",
       "      <td>2020-08-28 12:02:39.0</td>\n",
       "    </tr>\n",
       "    <tr>\n",
       "      <th>4</th>\n",
       "      <td>5</td>\n",
       "      <td>430981112211</td>\n",
       "      <td>沅江市南大膳镇西福垸村</td>\n",
       "      <td>28.996391</td>\n",
       "      <td>112.678101</td>\n",
       "      <td>4309811</td>\n",
       "      <td>43098144</td>\n",
       "      <td>NaN</td>\n",
       "      <td>NaN</td>\n",
       "      <td>29.013062</td>\n",
       "      <td>112.703550</td>\n",
       "      <td>0.0</td>\n",
       "      <td>verified</td>\n",
       "      <td>43098144.0</td>\n",
       "      <td>NaN</td>\n",
       "      <td>NaN</td>\n",
       "      <td>2020-08-28 10:34:42.0</td>\n",
       "    </tr>\n",
       "  </tbody>\n",
       "</table>\n",
       "</div>"
      ],
      "text/plain": [
       "   id  address_code_number  address_name  address_latitude  address_longitude  \\\n",
       "0   1         430981102204    沅江市四季红镇长征村         29.161852         112.560310   \n",
       "1   2         430981102203    沅江市四季红镇玉鹊村         29.144602         112.574051   \n",
       "2   3         430981102001  沅江市四季红镇四季红社区         29.126921         112.557487   \n",
       "3   4         430981112258    沅江市南大膳镇双螺村         29.040511         112.672511   \n",
       "4   5         430981112211   沅江市南大膳镇西福垸村         28.996391         112.678101   \n",
       "\n",
       "   collector_id  manager_id  collected_latitude  collected_longitude  \\\n",
       "0       4309810    43098144                 NaN                  NaN   \n",
       "1       4309810    43098144                 NaN                  NaN   \n",
       "2       4309810    43098144                 NaN                  NaN   \n",
       "3       4309811    43098144                 NaN                  NaN   \n",
       "4       4309811    43098144                 NaN                  NaN   \n",
       "\n",
       "   collector_latitude  collector_longitude  population verify_status  \\\n",
       "0           29.153702           112.552246      1920.0      verified   \n",
       "1           29.153702           112.552246      2400.0      verified   \n",
       "2           29.153702           112.552246      3200.0      verified   \n",
       "3           29.013062           112.703550         0.0      verified   \n",
       "4           29.013062           112.703550         0.0      verified   \n",
       "\n",
       "   verifier_id comment  create_time            update_time  \n",
       "0   43098144.0     NaN          NaN  2020-08-28 14:34:45.0  \n",
       "1   43098144.0     NaN          NaN  2020-08-28 14:34:50.0  \n",
       "2   43098144.0     NaN          NaN  2020-08-28 14:35:12.0  \n",
       "3   43098144.0     NaN          NaN  2020-08-28 12:02:39.0  \n",
       "4   43098144.0     NaN          NaN  2020-08-28 10:34:42.0  "
      ]
     },
     "execution_count": 72,
     "metadata": {},
     "output_type": "execute_result"
    }
   ],
   "source": [
    "dt.head()"
   ]
  },
  {
   "cell_type": "code",
   "execution_count": 97,
   "metadata": {},
   "outputs": [],
   "source": [
    "def reverse_geocoding(collector_latitude,collector_longitude):\n",
    "    location = str(collector_latitude)+','+str(collector_longitude) \n",
    "    base_url = \"https://apis.map.qq.com/ws/geocoder/v1/?location={}&key=GF5BZ-XJQK3-LGJ3I-Y33GI-I7EXE-GXBCN&get_poi=0\".format(\n",
    "        location)\n",
    "    response = requests.get(base_url)\n",
    "    answer = response.json()\n",
    "    if str(answer['status']) == '0':\n",
    "        address_return = answer['result']['formatted_addresses']['recommend']\n",
    "        town_title = answer['result']['address_reference']['town']['title']\n",
    "        distance = answer['result']['address_reference']['landmark_l2']['_distance']\n",
    "        landmark_title = answer['result']['address_reference']['landmark_l2']['title']\n",
    "        return address_return,town_title,landmark_title,distance\n",
    "    else:\n",
    "        return 0, 0, 0\n"
   ]
  },
  {
   "cell_type": "code",
   "execution_count": 98,
   "metadata": {},
   "outputs": [
    {
     "data": {
      "text/plain": [
       "('沅江南大汽车站西北(008县道南)', '南大膳镇', '沅江南大汽车站', 90.2)"
      ]
     },
     "execution_count": 98,
     "metadata": {},
     "output_type": "execute_result"
    }
   ],
   "source": [
    "reverse_geocoding(29.013062,112.70355)"
   ]
  },
  {
   "cell_type": "code",
   "execution_count": 99,
   "metadata": {},
   "outputs": [],
   "source": [
    "dt['address_return'],dt['town_title'],dt['landmark_title'] = zip(*dt.apply(lambda df: reverse_geocoding(df['collector_latitude'], df['collector_longitude']), axis=1))"
   ]
  },
  {
   "cell_type": "code",
   "execution_count": 100,
   "metadata": {},
   "outputs": [],
   "source": [
    "dt.to_excel('E:\\Population\\湖南\\沅江采集经纬度\\沅江采集校准.xlsx')"
   ]
  },
  {
   "cell_type": "code",
   "execution_count": null,
   "metadata": {},
   "outputs": [],
   "source": []
  }
 ],
 "metadata": {
  "kernelspec": {
   "display_name": "Python 3",
   "language": "python",
   "name": "python3"
  },
  "language_info": {
   "codemirror_mode": {
    "name": "ipython",
    "version": 3
   },
   "file_extension": ".py",
   "mimetype": "text/x-python",
   "name": "python",
   "nbconvert_exporter": "python",
   "pygments_lexer": "ipython3",
   "version": "3.7.3"
  }
 },
 "nbformat": 4,
 "nbformat_minor": 2
}
